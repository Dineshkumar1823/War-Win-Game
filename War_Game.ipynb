{
  "nbformat": 4,
  "nbformat_minor": 0,
  "metadata": {
    "colab": {
      "provenance": [],
      "authorship_tag": "ABX9TyPi1e2DdnG9VQ2OrcJhX/gX",
      "include_colab_link": true
    },
    "kernelspec": {
      "name": "python3",
      "display_name": "Python 3"
    },
    "language_info": {
      "name": "python"
    }
  },
  "cells": [
    {
      "cell_type": "markdown",
      "metadata": {
        "id": "view-in-github",
        "colab_type": "text"
      },
      "source": [
        "<a href=\"https://colab.research.google.com/github/Dineshkumar1823/War-Win-Game/blob/main/War_Game.ipynb\" target=\"_parent\"><img src=\"https://colab.research.google.com/assets/colab-badge.svg\" alt=\"Open In Colab\"/></a>"
      ]
    },
    {
      "cell_type": "code",
      "execution_count": 282,
      "metadata": {
        "id": "NmM87hC0I1OH"
      },
      "outputs": [],
      "source": [
        "# Card\n",
        "# Suits,rank,values\n",
        "import random\n",
        "suits =('Hearts', 'Diamonds', 'Spades', 'Clubs')\n",
        "ranks = ('Two', 'Three', 'Four', 'Five', 'Six', 'Seven', 'Eight', 'Nine', 'Ten', 'Jack', 'Queen', 'King', 'Ace')\n",
        "\n",
        "values = {'Two':2, 'Three':3, 'Four':4, 'Five':5, 'Six':6, 'Seven':7, 'Eight':8, 'Nine':9, 'Ten':10, 'Jack':11,\n",
        "         'Queen':12, 'King':13, 'Ace':14}"
      ]
    },
    {
      "cell_type": "code",
      "source": [
        "class Card:\n",
        "\n",
        "  def __init__(self,suits,ranks):\n",
        "    self.suits = suits\n",
        "    self.ranks = ranks\n",
        "    self.value = values[ranks]\n",
        "\n",
        "  def __str__(self):\n",
        "    return (self.ranks + \" of \" + self.suits)\n"
      ],
      "metadata": {
        "id": "wc4mGxK0KNkC"
      },
      "execution_count": 283,
      "outputs": []
    },
    {
      "cell_type": "code",
      "source": [
        "three_card_class = Card('Queen','Three')"
      ],
      "metadata": {
        "id": "809iooRvOseq"
      },
      "execution_count": 284,
      "outputs": []
    },
    {
      "cell_type": "code",
      "source": [
        "values[three_card_class.ranks]"
      ],
      "metadata": {
        "colab": {
          "base_uri": "https://localhost:8080/"
        },
        "id": "C3RWw2YSOsbS",
        "outputId": "b07021ed-c06d-4d7c-b37a-0bad244b3034"
      },
      "execution_count": 285,
      "outputs": [
        {
          "output_type": "execute_result",
          "data": {
            "text/plain": [
              "3"
            ]
          },
          "metadata": {},
          "execution_count": 285
        }
      ]
    },
    {
      "cell_type": "code",
      "source": [
        "three_card_class.suits"
      ],
      "metadata": {
        "colab": {
          "base_uri": "https://localhost:8080/",
          "height": 35
        },
        "id": "75R20dovOsYW",
        "outputId": "32284424-178f-4b77-9ebe-4b13a5efe745"
      },
      "execution_count": 286,
      "outputs": [
        {
          "output_type": "execute_result",
          "data": {
            "text/plain": [
              "'Queen'"
            ],
            "application/vnd.google.colaboratory.intrinsic+json": {
              "type": "string"
            }
          },
          "metadata": {},
          "execution_count": 286
        }
      ]
    },
    {
      "cell_type": "code",
      "source": [
        "two_hearts = Card('Hearts','Two')"
      ],
      "metadata": {
        "id": "VzvHhXTAKmAF"
      },
      "execution_count": 287,
      "outputs": []
    },
    {
      "cell_type": "code",
      "source": [
        "two_hearts\n"
      ],
      "metadata": {
        "colab": {
          "base_uri": "https://localhost:8080/"
        },
        "id": "saWPmI4CKu1k",
        "outputId": "65aa6674-36d8-4d27-eff2-f53e37fcde27"
      },
      "execution_count": 288,
      "outputs": [
        {
          "output_type": "execute_result",
          "data": {
            "text/plain": [
              "<__main__.Card at 0x7f7be2d15e50>"
            ]
          },
          "metadata": {},
          "execution_count": 288
        }
      ]
    },
    {
      "cell_type": "code",
      "source": [
        "print(two_hearts)"
      ],
      "metadata": {
        "colab": {
          "base_uri": "https://localhost:8080/"
        },
        "id": "MFflVA12Kzhr",
        "outputId": "21c2a48b-53e0-4e47-dfd3-8aa4ef50c8e1"
      },
      "execution_count": 289,
      "outputs": [
        {
          "output_type": "stream",
          "name": "stdout",
          "text": [
            "Two of Hearts\n"
          ]
        }
      ]
    },
    {
      "cell_type": "code",
      "source": [
        "two_hearts.suits"
      ],
      "metadata": {
        "colab": {
          "base_uri": "https://localhost:8080/",
          "height": 35
        },
        "id": "ANS7nFhCK8RM",
        "outputId": "1dd2fb1d-19a9-45a9-f24c-e8b7fe432817"
      },
      "execution_count": 290,
      "outputs": [
        {
          "output_type": "execute_result",
          "data": {
            "text/plain": [
              "'Hearts'"
            ],
            "application/vnd.google.colaboratory.intrinsic+json": {
              "type": "string"
            }
          },
          "metadata": {},
          "execution_count": 290
        }
      ]
    },
    {
      "cell_type": "code",
      "source": [
        "two_hearts.ranks\n"
      ],
      "metadata": {
        "colab": {
          "base_uri": "https://localhost:8080/",
          "height": 35
        },
        "id": "-iTaWjJlLEjo",
        "outputId": "94d25e38-766b-43f5-a04f-4c2bfc61b3f6"
      },
      "execution_count": 291,
      "outputs": [
        {
          "output_type": "execute_result",
          "data": {
            "text/plain": [
              "'Two'"
            ],
            "application/vnd.google.colaboratory.intrinsic+json": {
              "type": "string"
            }
          },
          "metadata": {},
          "execution_count": 291
        }
      ]
    },
    {
      "cell_type": "code",
      "source": [
        "values[two_hearts.ranks]"
      ],
      "metadata": {
        "colab": {
          "base_uri": "https://localhost:8080/"
        },
        "id": "jTuaRlrxMFYv",
        "outputId": "1071e6e1-8805-4d90-f546-02515f74b875"
      },
      "execution_count": 292,
      "outputs": [
        {
          "output_type": "execute_result",
          "data": {
            "text/plain": [
              "2"
            ]
          },
          "metadata": {},
          "execution_count": 292
        }
      ]
    },
    {
      "cell_type": "code",
      "source": [
        "two_hearts.value == three_card_class.value"
      ],
      "metadata": {
        "colab": {
          "base_uri": "https://localhost:8080/"
        },
        "id": "GPxL9bX6N0yc",
        "outputId": "ce7ab170-a7b9-448d-ec42-8fb482556f7d"
      },
      "execution_count": 293,
      "outputs": [
        {
          "output_type": "execute_result",
          "data": {
            "text/plain": [
              "False"
            ]
          },
          "metadata": {},
          "execution_count": 293
        }
      ]
    },
    {
      "cell_type": "code",
      "source": [
        " class Deck:\n",
        "\n",
        "   def __init__(self):\n",
        "\n",
        "     self.all_cards =[]\n",
        "\n",
        "     for suit in suits: #  create Unique 52 cards\n",
        "       for rank in ranks:\n",
        "         created_card = Card(suit,rank)\n",
        "\n",
        "         self.all_cards.append(created_card)\n",
        "\n",
        "   def shuffle(self): # Shuffle the 52 cards\n",
        "     random.shuffle(self.all_cards)\n",
        "\n",
        "   def deal_one(self):\n",
        "     return self.all_cards.pop()\n",
        "\n",
        "\n",
        "\n"
      ],
      "metadata": {
        "id": "BavtA6K_Pd9V"
      },
      "execution_count": 294,
      "outputs": []
    },
    {
      "cell_type": "code",
      "source": [
        "new_deck = Deck()"
      ],
      "metadata": {
        "id": "LPRsBcP1RXtn"
      },
      "execution_count": 295,
      "outputs": []
    },
    {
      "cell_type": "code",
      "source": [
        "new_deck.all_cards"
      ],
      "metadata": {
        "colab": {
          "base_uri": "https://localhost:8080/"
        },
        "id": "R42Dw3RDWhZd",
        "outputId": "4db7c506-ea52-4b39-cfdb-b2c8dc92ca6a"
      },
      "execution_count": 296,
      "outputs": [
        {
          "output_type": "execute_result",
          "data": {
            "text/plain": [
              "[<__main__.Card at 0x7f7be2cb2ed0>,\n",
              " <__main__.Card at 0x7f7be2cbc890>,\n",
              " <__main__.Card at 0x7f7be2cbc8d0>,\n",
              " <__main__.Card at 0x7f7be2cbcad0>,\n",
              " <__main__.Card at 0x7f7be2cbca10>,\n",
              " <__main__.Card at 0x7f7be2cbc510>,\n",
              " <__main__.Card at 0x7f7be2cbc250>,\n",
              " <__main__.Card at 0x7f7be2cbc150>,\n",
              " <__main__.Card at 0x7f7be2cbc3d0>,\n",
              " <__main__.Card at 0x7f7be2cbcb50>,\n",
              " <__main__.Card at 0x7f7bf15c0150>,\n",
              " <__main__.Card at 0x7f7bea595c50>,\n",
              " <__main__.Card at 0x7f7bea595690>,\n",
              " <__main__.Card at 0x7f7bea595310>,\n",
              " <__main__.Card at 0x7f7bea595fd0>,\n",
              " <__main__.Card at 0x7f7bea595890>,\n",
              " <__main__.Card at 0x7f7bea5954d0>,\n",
              " <__main__.Card at 0x7f7bea595450>,\n",
              " <__main__.Card at 0x7f7be2c19e50>,\n",
              " <__main__.Card at 0x7f7be2c19c90>,\n",
              " <__main__.Card at 0x7f7be2c19cd0>,\n",
              " <__main__.Card at 0x7f7be2c19d10>,\n",
              " <__main__.Card at 0x7f7be2c19290>,\n",
              " <__main__.Card at 0x7f7be2c19bd0>,\n",
              " <__main__.Card at 0x7f7be2c19950>,\n",
              " <__main__.Card at 0x7f7be2c19b10>,\n",
              " <__main__.Card at 0x7f7be2c19ed0>,\n",
              " <__main__.Card at 0x7f7be2c198d0>,\n",
              " <__main__.Card at 0x7f7be2c19d50>,\n",
              " <__main__.Card at 0x7f7be2c19190>,\n",
              " <__main__.Card at 0x7f7be2c19910>,\n",
              " <__main__.Card at 0x7f7be2c19590>,\n",
              " <__main__.Card at 0x7f7be2c19410>,\n",
              " <__main__.Card at 0x7f7be2c19090>,\n",
              " <__main__.Card at 0x7f7be2c190d0>,\n",
              " <__main__.Card at 0x7f7be2c19b90>,\n",
              " <__main__.Card at 0x7f7be2c19dd0>,\n",
              " <__main__.Card at 0x7f7be2c19650>,\n",
              " <__main__.Card at 0x7f7be2c193d0>,\n",
              " <__main__.Card at 0x7f7be2c19250>,\n",
              " <__main__.Card at 0x7f7be2c19710>,\n",
              " <__main__.Card at 0x7f7be2c195d0>,\n",
              " <__main__.Card at 0x7f7be2c19850>,\n",
              " <__main__.Card at 0x7f7be2c19450>,\n",
              " <__main__.Card at 0x7f7be2c19690>,\n",
              " <__main__.Card at 0x7f7be2c19150>,\n",
              " <__main__.Card at 0x7f7be2c19110>,\n",
              " <__main__.Card at 0x7f7be2c19050>,\n",
              " <__main__.Card at 0x7f7be2c19fd0>,\n",
              " <__main__.Card at 0x7f7be2c197d0>,\n",
              " <__main__.Card at 0x7f7be2c199d0>,\n",
              " <__main__.Card at 0x7f7be2c19890>]"
            ]
          },
          "metadata": {},
          "execution_count": 296
        }
      ]
    },
    {
      "cell_type": "code",
      "source": [
        "Top_table = new_deck.all_cards[0]"
      ],
      "metadata": {
        "id": "JHk3hWnmZJ30"
      },
      "execution_count": 297,
      "outputs": []
    },
    {
      "cell_type": "code",
      "source": [
        "print(Top_table) # Shuffled already"
      ],
      "metadata": {
        "colab": {
          "base_uri": "https://localhost:8080/"
        },
        "id": "k4komt7wbMh4",
        "outputId": "e5237a51-49bc-4f79-f0b6-9112a7addad3"
      },
      "execution_count": 298,
      "outputs": [
        {
          "output_type": "stream",
          "name": "stdout",
          "text": [
            "Two of Hearts\n"
          ]
        }
      ]
    },
    {
      "cell_type": "code",
      "source": [
        "Bootam_table = new_deck.all_cards[-1]"
      ],
      "metadata": {
        "id": "Cxj5yBsRbQTu"
      },
      "execution_count": 299,
      "outputs": []
    },
    {
      "cell_type": "code",
      "source": [
        "print(Bootam_table)"
      ],
      "metadata": {
        "colab": {
          "base_uri": "https://localhost:8080/"
        },
        "id": "7ViNLnFxb0Zn",
        "outputId": "b27f4d49-0e51-4232-afcd-aa015050d8c6"
      },
      "execution_count": 300,
      "outputs": [
        {
          "output_type": "stream",
          "name": "stdout",
          "text": [
            "Ace of Clubs\n"
          ]
        }
      ]
    },
    {
      "cell_type": "code",
      "source": [
        "for card_obj in new_deck.all_cards: # unique 52 cards\n",
        "  print(card_obj)"
      ],
      "metadata": {
        "colab": {
          "base_uri": "https://localhost:8080/"
        },
        "id": "qGlG-b_kb6vW",
        "outputId": "dfa00963-c89d-4720-b9c9-90d7d151f378"
      },
      "execution_count": 301,
      "outputs": [
        {
          "output_type": "stream",
          "name": "stdout",
          "text": [
            "Two of Hearts\n",
            "Three of Hearts\n",
            "Four of Hearts\n",
            "Five of Hearts\n",
            "Six of Hearts\n",
            "Seven of Hearts\n",
            "Eight of Hearts\n",
            "Nine of Hearts\n",
            "Ten of Hearts\n",
            "Jack of Hearts\n",
            "Queen of Hearts\n",
            "King of Hearts\n",
            "Ace of Hearts\n",
            "Two of Diamonds\n",
            "Three of Diamonds\n",
            "Four of Diamonds\n",
            "Five of Diamonds\n",
            "Six of Diamonds\n",
            "Seven of Diamonds\n",
            "Eight of Diamonds\n",
            "Nine of Diamonds\n",
            "Ten of Diamonds\n",
            "Jack of Diamonds\n",
            "Queen of Diamonds\n",
            "King of Diamonds\n",
            "Ace of Diamonds\n",
            "Two of Spades\n",
            "Three of Spades\n",
            "Four of Spades\n",
            "Five of Spades\n",
            "Six of Spades\n",
            "Seven of Spades\n",
            "Eight of Spades\n",
            "Nine of Spades\n",
            "Ten of Spades\n",
            "Jack of Spades\n",
            "Queen of Spades\n",
            "King of Spades\n",
            "Ace of Spades\n",
            "Two of Clubs\n",
            "Three of Clubs\n",
            "Four of Clubs\n",
            "Five of Clubs\n",
            "Six of Clubs\n",
            "Seven of Clubs\n",
            "Eight of Clubs\n",
            "Nine of Clubs\n",
            "Ten of Clubs\n",
            "Jack of Clubs\n",
            "Queen of Clubs\n",
            "King of Clubs\n",
            "Ace of Clubs\n"
          ]
        }
      ]
    },
    {
      "cell_type": "code",
      "source": [
        "new_deck.shuffle() # shuffle all cards"
      ],
      "metadata": {
        "id": "erLNXzsqc82g"
      },
      "execution_count": 302,
      "outputs": []
    },
    {
      "cell_type": "code",
      "source": [
        "print(new_deck.all_cards[0]) #shuffle card index number"
      ],
      "metadata": {
        "colab": {
          "base_uri": "https://localhost:8080/"
        },
        "id": "lwOOADY8e5e4",
        "outputId": "81b9979c-9b71-4477-8205-e2784c2e6d51"
      },
      "execution_count": 303,
      "outputs": [
        {
          "output_type": "stream",
          "name": "stdout",
          "text": [
            "Seven of Spades\n"
          ]
        }
      ]
    },
    {
      "cell_type": "code",
      "source": [
        "new_deck.shuffle()"
      ],
      "metadata": {
        "id": "kATEnIQle9yf"
      },
      "execution_count": 304,
      "outputs": []
    },
    {
      "cell_type": "code",
      "source": [
        "mycard = new_deck.deal_one()"
      ],
      "metadata": {
        "id": "mFCbrUUhhj6f"
      },
      "execution_count": 305,
      "outputs": []
    },
    {
      "cell_type": "code",
      "source": [
        "print(mycard)"
      ],
      "metadata": {
        "colab": {
          "base_uri": "https://localhost:8080/"
        },
        "id": "MDMf9E13hv-4",
        "outputId": "06dc4f23-65fb-40e3-e7e5-76b55f4c2fcc"
      },
      "execution_count": 306,
      "outputs": [
        {
          "output_type": "stream",
          "name": "stdout",
          "text": [
            "Queen of Hearts\n"
          ]
        }
      ]
    },
    {
      "cell_type": "code",
      "source": [
        "len(new_deck.all_cards)"
      ],
      "metadata": {
        "colab": {
          "base_uri": "https://localhost:8080/"
        },
        "id": "vJFYK3lkh057",
        "outputId": "cb5870b8-d9d6-4927-d6ee-6ad40f305083"
      },
      "execution_count": 307,
      "outputs": [
        {
          "output_type": "execute_result",
          "data": {
            "text/plain": [
              "51"
            ]
          },
          "metadata": {},
          "execution_count": 307
        }
      ]
    },
    {
      "cell_type": "code",
      "source": [
        "class Player:\n",
        "\n",
        "  def __init__(self,name):\n",
        "    self.name = name \n",
        "    self.all_cards = []\n",
        "\n",
        "  def remove_card(self):\n",
        "    return self.all_cards.pop(0)\n",
        "    \n",
        "\n",
        "  def add_card(self,new_cards):\n",
        "    if type(new_cards) == type([]): # List of multiple object\n",
        "      self.all_cards.extend(new_cards)\n",
        "    else:\n",
        "      self.all_cards.append(new_cards) # single list of object\n",
        "\n",
        "    \n",
        "\n",
        "  def __str__(self):\n",
        "    return f'Player {self.name} has {len(self.all_cards)}.cards.'"
      ],
      "metadata": {
        "id": "iTw0Hg4sh3oX"
      },
      "execution_count": 308,
      "outputs": []
    },
    {
      "cell_type": "code",
      "source": [
        "new_players = Player('Dinesh')"
      ],
      "metadata": {
        "id": "j7DEqF_Mpb_X"
      },
      "execution_count": 309,
      "outputs": []
    },
    {
      "cell_type": "code",
      "source": [
        "print(new_players)"
      ],
      "metadata": {
        "colab": {
          "base_uri": "https://localhost:8080/"
        },
        "id": "sTAZyOsmpk5X",
        "outputId": "4f7e6e4e-ca36-4c9b-ed33-7f3dd148c2db"
      },
      "execution_count": 310,
      "outputs": [
        {
          "output_type": "stream",
          "name": "stdout",
          "text": [
            "Player Dinesh has 0.cards.\n"
          ]
        }
      ]
    },
    {
      "cell_type": "code",
      "source": [
        "new_players.add_card(mycard)"
      ],
      "metadata": {
        "id": "nxa4qPpspuk_"
      },
      "execution_count": 311,
      "outputs": []
    },
    {
      "cell_type": "code",
      "source": [
        "print(new_players)"
      ],
      "metadata": {
        "colab": {
          "base_uri": "https://localhost:8080/"
        },
        "id": "KiW8ecLOtJC_",
        "outputId": "9023264d-1666-4d1e-e535-e5f7f22919f1"
      },
      "execution_count": 312,
      "outputs": [
        {
          "output_type": "stream",
          "name": "stdout",
          "text": [
            "Player Dinesh has 1.cards.\n"
          ]
        }
      ]
    },
    {
      "cell_type": "code",
      "source": [
        " print(new_players.all_cards[0])"
      ],
      "metadata": {
        "colab": {
          "base_uri": "https://localhost:8080/"
        },
        "id": "SepbwerxtQzr",
        "outputId": "08b0840a-c7f0-4505-c015-1314fff8b32c"
      },
      "execution_count": 313,
      "outputs": [
        {
          "output_type": "stream",
          "name": "stdout",
          "text": [
            "Queen of Hearts\n"
          ]
        }
      ]
    },
    {
      "cell_type": "code",
      "source": [
        "new_players.add_card([mycard,mycard,mycard])"
      ],
      "metadata": {
        "id": "G3QGkwByvudh"
      },
      "execution_count": 314,
      "outputs": []
    },
    {
      "cell_type": "code",
      "source": [
        "print(new_players)"
      ],
      "metadata": {
        "colab": {
          "base_uri": "https://localhost:8080/"
        },
        "id": "rBXgRPmOwjUx",
        "outputId": "948816d0-98a6-4f35-bec5-9b9598d6443a"
      },
      "execution_count": 315,
      "outputs": [
        {
          "output_type": "stream",
          "name": "stdout",
          "text": [
            "Player Dinesh has 4.cards.\n"
          ]
        }
      ]
    },
    {
      "cell_type": "code",
      "source": [
        "new_players.remove_card()"
      ],
      "metadata": {
        "colab": {
          "base_uri": "https://localhost:8080/"
        },
        "id": "f709AGICxM9O",
        "outputId": "4fb0a8ee-ea49-41e3-e10a-e997cb19da24"
      },
      "execution_count": 316,
      "outputs": [
        {
          "output_type": "execute_result",
          "data": {
            "text/plain": [
              "<__main__.Card at 0x7f7bf15c0150>"
            ]
          },
          "metadata": {},
          "execution_count": 316
        }
      ]
    },
    {
      "cell_type": "code",
      "source": [
        "print(new_players)"
      ],
      "metadata": {
        "colab": {
          "base_uri": "https://localhost:8080/"
        },
        "id": "JOGHnM3TxVlx",
        "outputId": "b0913396-0a03-4f84-981b-34cf3eb69962"
      },
      "execution_count": 317,
      "outputs": [
        {
          "output_type": "stream",
          "name": "stdout",
          "text": [
            "Player Dinesh has 3.cards.\n"
          ]
        }
      ]
    },
    {
      "cell_type": "code",
      "source": [
        "# Game Setup\n",
        "\n",
        "Player_one =Player('One')\n",
        "Player_two = Player(\"Two\")\n",
        "\n",
        "new_deck = Deck()\n",
        "new_deck.shuffle()\n",
        "\n",
        "for x in range(26):\n",
        "  Player_one.add_card(new_deck.deal_one())\n",
        "  Player_two.add_card(new_deck.deal_one())\n",
        "\n"
      ],
      "metadata": {
        "id": "YTkcVvSLxYGQ"
      },
      "execution_count": 324,
      "outputs": []
    },
    {
      "cell_type": "code",
      "source": [
        "game_on = True\n"
      ],
      "metadata": {
        "id": "OLbNj9ntLGr-"
      },
      "execution_count": 346,
      "outputs": []
    },
    {
      "cell_type": "code",
      "source": [
        "round_num = 0\n",
        "\n",
        "while game_on:\n",
        "  round_num += 1\n",
        "  print(f'Round {round_num}')\n",
        "\n",
        "  if len(Player_one.all_cards) == 0:\n",
        "    print(\"Player One has no card left! , Player Two wins\")\n",
        "    game_on = False\n",
        "    break\n",
        "\n",
        "  if len(Player_two.all_cards) == 0:\n",
        "    print(\"Player Two has no card left! , Player One wins\")\n",
        "    game_on = False\n",
        "    break\n",
        "\n",
        "# New Round\n",
        "\n",
        "  Player_one_cards = []\n",
        "  Player_one_cards.append(Player_one.remove_card())\n",
        "\n",
        "\n",
        "  Player_two_cards = []\n",
        "  Player_two_cards.append(Player_two.remove_card())\n",
        "\n",
        "\n",
        "  at_war= True\n",
        "\n",
        "  while at_war:\n",
        "    if Player_one_cards[-1].value >  Player_two_cards[-1].value:\n",
        "      Player_one.add_card(Player_one_cards)\n",
        "      Player_one.add_card(Player_two_cards)\n",
        "      at_war = False\n",
        "\n",
        "    elif Player_one_cards[-1].value <  Player_two_cards[-1].value:\n",
        "      Player_two.add_card(Player_one_cards)\n",
        "      Player_two.add_card(Player_two_cards)\n",
        "      at_war = False\n",
        "      \n",
        "    else:\n",
        "\n",
        "      print('war!')\n",
        "      if len(Player_one.all_cards) < 5:\n",
        "        print(' Player one unable to declare war')\n",
        "        print('Player two Wins!')\n",
        "        game_on = False\n",
        "        break\n",
        "\n",
        "      elif len(Player_two.all_cards) < 5:\n",
        "        print(' Player two unable to declare war')\n",
        "        print('Player One Wins!')\n",
        "        game_on = False\n",
        "        break\n",
        "\n",
        "\n",
        "      else:\n",
        "        for num in range(3):\n",
        "          Player_one_cards.append(Player_one.remove_card())\n",
        "          Player_two_cards.append(Player_two.remove_card())\n",
        "\n",
        "\n",
        "\n"
      ],
      "metadata": {
        "colab": {
          "base_uri": "https://localhost:8080/"
        },
        "id": "IErngnyiMCod",
        "outputId": "97cb1dc8-1442-459f-f4e1-37d10e8c5551"
      },
      "execution_count": 347,
      "outputs": [
        {
          "output_type": "stream",
          "name": "stdout",
          "text": [
            "Round 1\n",
            "Round 2\n",
            "Round 3\n",
            "Round 4\n",
            "Round 5\n",
            "Round 6\n",
            "Round 7\n",
            "Round 8\n",
            "Round 9\n",
            "Round 10\n",
            "Round 11\n",
            "Round 12\n",
            "Round 13\n",
            "Round 14\n",
            "Round 15\n",
            "Round 16\n",
            "Round 17\n",
            "Round 18\n",
            "Round 19\n",
            "Round 20\n",
            "Round 21\n",
            "Round 22\n",
            "Round 23\n",
            "Round 24\n",
            "Round 25\n",
            "Round 26\n",
            "Round 27\n",
            "Round 28\n",
            "Player Two has no card left! , Player One wins\n"
          ]
        }
      ]
    },
    {
      "cell_type": "code",
      "source": [],
      "metadata": {
        "id": "PWfoPQ_jiURe"
      },
      "execution_count": null,
      "outputs": []
    }
  ]
}